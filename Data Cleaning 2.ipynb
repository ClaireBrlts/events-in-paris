{
 "cells": [
  {
   "cell_type": "code",
   "execution_count": 12,
   "id": "d42b1ef9",
   "metadata": {},
   "outputs": [],
   "source": [
    "import pandas as pd"
   ]
  },
  {
   "cell_type": "code",
   "execution_count": 13,
   "id": "44b54b7c",
   "metadata": {},
   "outputs": [],
   "source": [
    "url = r\"Raw Data\\que-faire-a-paris-.csv\"\n",
    "events = pd.read_csv(url, sep = \";\")"
   ]
  },
  {
   "cell_type": "code",
   "execution_count": 14,
   "id": "987079ca",
   "metadata": {},
   "outputs": [],
   "source": [
    "# Remove columns that have more than 1000 null values\n",
    "\n",
    "def drop_col_null_values(df):\n",
    "    cols_to_drop = [col for col in df.columns if df[col].isnull().sum() > 1000]\n",
    "    return df.drop(columns=cols_to_drop)\n"
   ]
  },
  {
   "cell_type": "code",
   "execution_count": 15,
   "id": "55f33ed2",
   "metadata": {},
   "outputs": [],
   "source": [
    "events = drop_col_null_values(events)"
   ]
  },
  {
   "cell_type": "code",
   "execution_count": 16,
   "id": "0466a250",
   "metadata": {},
   "outputs": [],
   "source": [
    "# Look at the remaining columns with highest number null values and decide to drop them or not\n",
    "# title_event is a duplicate of title\n",
    "# ID column is not necessary if we already have event_id\n",
    "events.drop(columns=['ID','title_event', 'contact_organisation_name', \"Crédit de l'image\", 'group', 'locale', 'rank', 'weight', 'event_pets_allowed', \"URL de l'image\"], axis=1, inplace=True)\n"
   ]
  },
  {
   "cell_type": "code",
   "execution_count": 17,
   "id": "0ef7733e",
   "metadata": {},
   "outputs": [
    {
     "data": {
      "text/plain": [
       "False    2729\n",
       "Name: count, dtype: int64"
      ]
     },
     "execution_count": 17,
     "metadata": {},
     "output_type": "execute_result"
    }
   ],
   "source": [
    "events.duplicated().value_counts()"
   ]
  },
  {
   "cell_type": "code",
   "execution_count": 18,
   "id": "8e6834f9",
   "metadata": {},
   "outputs": [],
   "source": [
    "events.dropna(subset=['Coordonnées géographiques'], inplace=True)"
   ]
  },
  {
   "cell_type": "code",
   "execution_count": 19,
   "id": "ba8602f4",
   "metadata": {},
   "outputs": [],
   "source": [
    "localisation = events[['locations', 'Adresse du lieu', 'Coordonnées géographiques']].sort_values('Adresse du lieu')\n",
    "events.drop(columns=['locations'], axis=1, inplace=True)"
   ]
  },
  {
   "cell_type": "code",
   "execution_count": 20,
   "id": "5e2566c9",
   "metadata": {},
   "outputs": [],
   "source": [
    "events = events.copy()\n",
    "events = events[events['Date de fin'] > '2025-06-01']"
   ]
  },
  {
   "cell_type": "code",
   "execution_count": 22,
   "id": "3929c6a9",
   "metadata": {},
   "outputs": [],
   "source": [
    "split_themes = events['qfap_tags'].str.split(';', expand=True)\n",
    "split_themes.columns = [f'theme{i+1}' for i in range(split_themes.shape[1])]\n",
    "events = pd.concat([events, split_themes], axis=1)"
   ]
  },
  {
   "cell_type": "code",
   "execution_count": 24,
   "id": "5ba085fe",
   "metadata": {},
   "outputs": [
    {
     "data": {
      "text/plain": [
       "(2632, 23)"
      ]
     },
     "execution_count": 24,
     "metadata": {},
     "output_type": "execute_result"
    }
   ],
   "source": [
    "events.shape"
   ]
  },
  {
   "cell_type": "code",
   "execution_count": 25,
   "id": "bf55081b",
   "metadata": {},
   "outputs": [],
   "source": [
    "events.drop('qfap_tags', axis=1, inplace=True)"
   ]
  },
  {
   "cell_type": "code",
   "execution_count": 26,
   "id": "972962b2",
   "metadata": {},
   "outputs": [],
   "source": [
    "events[['latitude', 'longitude']] = events['Coordonnées géographiques'].str.split(',', expand=True)"
   ]
  },
  {
   "cell_type": "code",
   "execution_count": null,
   "id": "d86e537a",
   "metadata": {},
   "outputs": [],
   "source": [
    "events.drop('Coordonnées géographiques', axis=1, inplace=True)"
   ]
  },
  {
   "cell_type": "code",
   "execution_count": 27,
   "id": "b09578a2",
   "metadata": {},
   "outputs": [],
   "source": [
    "import unicodedata\n",
    "\n",
    "def clean_column_name(col):\n",
    "    # Normalize accents and remove diacritics\n",
    "    col = unicodedata.normalize('NFKD', col).encode('ascii', 'ignore').decode('utf-8')\n",
    "    # Lowercase, replace apostrophes, remove punctuation, replace spaces\n",
    "    col = (\n",
    "        col.lower()\n",
    "        .replace(\"'\", \"_\")\n",
    "        .replace(\"-\", \"_\")\n",
    "    )\n",
    "    col = re.sub(r'[^\\w\\s]', '', col)      # remove punctuation\n",
    "    col = re.sub(r'\\s+', '_', col)         # replace whitespace with _\n",
    "    return col\n",
    "\n",
    "import re\n",
    "events.columns = [clean_column_name(col) for col in events.columns]"
   ]
  },
  {
   "cell_type": "code",
   "execution_count": 28,
   "id": "404af766",
   "metadata": {},
   "outputs": [
    {
     "data": {
      "text/html": [
       "<div>\n",
       "<style scoped>\n",
       "    .dataframe tbody tr th:only-of-type {\n",
       "        vertical-align: middle;\n",
       "    }\n",
       "\n",
       "    .dataframe tbody tr th {\n",
       "        vertical-align: top;\n",
       "    }\n",
       "\n",
       "    .dataframe thead th {\n",
       "        text-align: right;\n",
       "    }\n",
       "</style>\n",
       "<table border=\"1\" class=\"dataframe\">\n",
       "  <thead>\n",
       "    <tr style=\"text-align: right;\">\n",
       "      <th></th>\n",
       "      <th>event_id</th>\n",
       "      <th>url</th>\n",
       "      <th>titre</th>\n",
       "      <th>chapeau</th>\n",
       "      <th>description</th>\n",
       "      <th>date_de_debut</th>\n",
       "      <th>date_de_fin</th>\n",
       "      <th>occurrences</th>\n",
       "      <th>description_de_la_date</th>\n",
       "      <th>nom_du_lieu</th>\n",
       "      <th>...</th>\n",
       "      <th>type_de_prix</th>\n",
       "      <th>type_d_acces</th>\n",
       "      <th>date_de_mise_a_jour</th>\n",
       "      <th>audience</th>\n",
       "      <th>event_indoor</th>\n",
       "      <th>theme1</th>\n",
       "      <th>theme2</th>\n",
       "      <th>theme3</th>\n",
       "      <th>latitude</th>\n",
       "      <th>longitude</th>\n",
       "    </tr>\n",
       "  </thead>\n",
       "  <tbody>\n",
       "    <tr>\n",
       "      <th>332</th>\n",
       "      <td>65667</td>\n",
       "      <td>https://www.paris.fr/evenements/venez-rencontr...</td>\n",
       "      <td>Venez rencontrer les Louves du Polar à la Fnac...</td>\n",
       "      <td>Les autrices francophones de romans noirs sont...</td>\n",
       "      <td>&lt;h2&gt;SANDRINE COHEN&lt;/h2&gt;&lt;p&gt;&lt;strong&gt;Sandrine Coh...</td>\n",
       "      <td>2530-02-27T19:00:00+01:00</td>\n",
       "      <td>2530-02-27T19:30:00+01:00</td>\n",
       "      <td>2530-02-27T18:00:00+01:00_2530-02-27T18:30:00+...</td>\n",
       "      <td>Le lundi 27 février 2530&lt;br /&gt;de 18h00 à 18h30...</td>\n",
       "      <td>Fnac Montparnasse</td>\n",
       "      <td>...</td>\n",
       "      <td>gratuit</td>\n",
       "      <td>non</td>\n",
       "      <td>2025-05-20T19:14:13+02:00</td>\n",
       "      <td>Public jeunes et adultes.</td>\n",
       "      <td>1</td>\n",
       "      <td>Littérature</td>\n",
       "      <td>None</td>\n",
       "      <td>None</td>\n",
       "      <td>48.8459520129701</td>\n",
       "      <td>2.3257039591324</td>\n",
       "    </tr>\n",
       "  </tbody>\n",
       "</table>\n",
       "<p>1 rows × 24 columns</p>\n",
       "</div>"
      ],
      "text/plain": [
       "     event_id                                                url  \\\n",
       "332     65667  https://www.paris.fr/evenements/venez-rencontr...   \n",
       "\n",
       "                                                 titre  \\\n",
       "332  Venez rencontrer les Louves du Polar à la Fnac...   \n",
       "\n",
       "                                               chapeau  \\\n",
       "332  Les autrices francophones de romans noirs sont...   \n",
       "\n",
       "                                           description  \\\n",
       "332  <h2>SANDRINE COHEN</h2><p><strong>Sandrine Coh...   \n",
       "\n",
       "                 date_de_debut                date_de_fin  \\\n",
       "332  2530-02-27T19:00:00+01:00  2530-02-27T19:30:00+01:00   \n",
       "\n",
       "                                           occurrences  \\\n",
       "332  2530-02-27T18:00:00+01:00_2530-02-27T18:30:00+...   \n",
       "\n",
       "                                description_de_la_date        nom_du_lieu  \\\n",
       "332  Le lundi 27 février 2530<br />de 18h00 à 18h30...  Fnac Montparnasse   \n",
       "\n",
       "     ... type_de_prix type_d_acces        date_de_mise_a_jour  \\\n",
       "332  ...      gratuit          non  2025-05-20T19:14:13+02:00   \n",
       "\n",
       "                      audience event_indoor       theme1 theme2 theme3  \\\n",
       "332  Public jeunes et adultes.            1  Littérature   None   None   \n",
       "\n",
       "             latitude         longitude  \n",
       "332  48.8459520129701   2.3257039591324  \n",
       "\n",
       "[1 rows x 24 columns]"
      ]
     },
     "execution_count": 28,
     "metadata": {},
     "output_type": "execute_result"
    }
   ],
   "source": [
    "events[events['date_de_debut'] == '2530-02-27T19:00:00+01:00']"
   ]
  },
  {
   "cell_type": "code",
   "execution_count": 29,
   "id": "9f9600f9",
   "metadata": {},
   "outputs": [],
   "source": [
    "events = events[events['date_de_debut'] != '2530-02-27T19:00:00+01:00']"
   ]
  },
  {
   "cell_type": "code",
   "execution_count": null,
   "id": "a6f558af",
   "metadata": {},
   "outputs": [],
   "source": [
    "# events = events.copy()\n",
    "# events['date_de_debut'] = pd.to_datetime(events['date_de_debut'], errors='coerce', utc=True)\n",
    "# events['date_de_fin'] = pd.to_datetime(events['date_de_fin'], errors='coerce', utc=True)\n"
   ]
  },
  {
   "cell_type": "code",
   "execution_count": 30,
   "id": "3aafce76",
   "metadata": {},
   "outputs": [],
   "source": [
    "lengths = events['occurrences'].fillna('').str.split(';').apply(len)\n",
    "events = events[lengths <= 150].copy()"
   ]
  },
  {
   "cell_type": "code",
   "execution_count": 31,
   "id": "1048641f",
   "metadata": {},
   "outputs": [],
   "source": [
    "new_cols = events['occurrences'].str.split(';', expand=True)"
   ]
  },
  {
   "cell_type": "code",
   "execution_count": 33,
   "id": "a0190a1c",
   "metadata": {},
   "outputs": [],
   "source": [
    "# Split into new columns\n",
    "new_cols = events['occurrences'].str.split(';', expand=True)\n",
    "\n",
    "# Generate column names: date1, date2, ..., date150\n",
    "col_names = [f'date{i+1}' for i in range(new_cols.shape[1])]\n",
    "\n",
    "# Assign back to events with these names\n",
    "events = events.copy()\n",
    "events[col_names] = new_cols\n"
   ]
  },
  {
   "cell_type": "code",
   "execution_count": 34,
   "id": "eb244abf",
   "metadata": {},
   "outputs": [],
   "source": [
    "# List of the 150 column names\n",
    "date_cols = [f'date{i}' for i in range(1, 151)]\n",
    "\n",
    "# Apply the split to each column\n",
    "for col in date_cols:\n",
    "    events[col] = events[col].str.split('_').str[0]"
   ]
  },
  {
   "cell_type": "code",
   "execution_count": 35,
   "id": "bd8db8fd",
   "metadata": {},
   "outputs": [
    {
     "data": {
      "text/html": [
       "<div>\n",
       "<style scoped>\n",
       "    .dataframe tbody tr th:only-of-type {\n",
       "        vertical-align: middle;\n",
       "    }\n",
       "\n",
       "    .dataframe tbody tr th {\n",
       "        vertical-align: top;\n",
       "    }\n",
       "\n",
       "    .dataframe thead th {\n",
       "        text-align: right;\n",
       "    }\n",
       "</style>\n",
       "<table border=\"1\" class=\"dataframe\">\n",
       "  <thead>\n",
       "    <tr style=\"text-align: right;\">\n",
       "      <th></th>\n",
       "      <th>event_id</th>\n",
       "      <th>url</th>\n",
       "      <th>titre</th>\n",
       "      <th>chapeau</th>\n",
       "      <th>description</th>\n",
       "      <th>date_de_debut</th>\n",
       "      <th>date_de_fin</th>\n",
       "      <th>occurrences</th>\n",
       "      <th>description_de_la_date</th>\n",
       "      <th>nom_du_lieu</th>\n",
       "      <th>...</th>\n",
       "      <th>date141</th>\n",
       "      <th>date142</th>\n",
       "      <th>date143</th>\n",
       "      <th>date144</th>\n",
       "      <th>date145</th>\n",
       "      <th>date146</th>\n",
       "      <th>date147</th>\n",
       "      <th>date148</th>\n",
       "      <th>date149</th>\n",
       "      <th>date150</th>\n",
       "    </tr>\n",
       "  </thead>\n",
       "  <tbody>\n",
       "    <tr>\n",
       "      <th>2</th>\n",
       "      <td>4283</td>\n",
       "      <td>https://www.paris.fr/evenements/la-folle-et-in...</td>\n",
       "      <td>La folle et inconvenante histoire des femmes, ...</td>\n",
       "      <td>Une immersion drôle, détonante et décalée dans...</td>\n",
       "      <td>&lt;p&gt;Ce spectacle met en scène une jeune femme q...</td>\n",
       "      <td>2023-10-24T00:00:00+02:00</td>\n",
       "      <td>2026-08-07T01:15:00+02:00</td>\n",
       "      <td>2026-08-06T22:00:00+02:00_2026-08-06T23:15:00+...</td>\n",
       "      <td>Le jeudi 06 août 2026&lt;br /&gt;de 21h00 à 22h15&lt;br /&gt;</td>\n",
       "      <td>Le funambule montmartre</td>\n",
       "      <td>...</td>\n",
       "      <td>None</td>\n",
       "      <td>None</td>\n",
       "      <td>None</td>\n",
       "      <td>None</td>\n",
       "      <td>None</td>\n",
       "      <td>None</td>\n",
       "      <td>None</td>\n",
       "      <td>None</td>\n",
       "      <td>None</td>\n",
       "      <td>None</td>\n",
       "    </tr>\n",
       "    <tr>\n",
       "      <th>3</th>\n",
       "      <td>51498</td>\n",
       "      <td>https://www.paris.fr/evenements/signatures-ave...</td>\n",
       "      <td>Signatures avec Dominique et Alexandra Duvivier</td>\n",
       "      <td>Encore un nouveau spectacle du duo mythique de...</td>\n",
       "      <td>&lt;p&gt;Peut-être tout simplement la magie de vous ...</td>\n",
       "      <td>2024-10-12T00:00:00+02:00</td>\n",
       "      <td>2025-07-12T01:15:00+02:00</td>\n",
       "      <td>2025-06-27T22:00:00+02:00_2025-06-27T23:15:00+...</td>\n",
       "      <td>Le vendredi 11 juillet 2025&lt;br /&gt;de 21h00 à 22...</td>\n",
       "      <td>Théâtre Le Double Fond</td>\n",
       "      <td>...</td>\n",
       "      <td>None</td>\n",
       "      <td>None</td>\n",
       "      <td>None</td>\n",
       "      <td>None</td>\n",
       "      <td>None</td>\n",
       "      <td>None</td>\n",
       "      <td>None</td>\n",
       "      <td>None</td>\n",
       "      <td>None</td>\n",
       "      <td>None</td>\n",
       "    </tr>\n",
       "    <tr>\n",
       "      <th>4</th>\n",
       "      <td>51918</td>\n",
       "      <td>https://www.paris.fr/evenements/le-milieu-des-...</td>\n",
       "      <td>« Le Milieu des choses », une œuvre de Javier ...</td>\n",
       "      <td>En juin 2024, Black Swan Real Estate Capital, ...</td>\n",
       "      <td>&lt;p&gt;&lt;strong&gt;Avec cette réalisation, l’approche ...</td>\n",
       "      <td>2024-06-01T02:00:00+02:00</td>\n",
       "      <td>2030-06-02T01:59:59+02:00</td>\n",
       "      <td>NaN</td>\n",
       "      <td>Du samedi 01 juin 2024 au samedi 01 juin 2030 ...</td>\n",
       "      <td>Bureaux Panache</td>\n",
       "      <td>...</td>\n",
       "      <td>NaN</td>\n",
       "      <td>NaN</td>\n",
       "      <td>NaN</td>\n",
       "      <td>NaN</td>\n",
       "      <td>NaN</td>\n",
       "      <td>NaN</td>\n",
       "      <td>NaN</td>\n",
       "      <td>NaN</td>\n",
       "      <td>NaN</td>\n",
       "      <td>NaN</td>\n",
       "    </tr>\n",
       "  </tbody>\n",
       "</table>\n",
       "<p>3 rows × 174 columns</p>\n",
       "</div>"
      ],
      "text/plain": [
       "   event_id                                                url  \\\n",
       "2      4283  https://www.paris.fr/evenements/la-folle-et-in...   \n",
       "3     51498  https://www.paris.fr/evenements/signatures-ave...   \n",
       "4     51918  https://www.paris.fr/evenements/le-milieu-des-...   \n",
       "\n",
       "                                               titre  \\\n",
       "2  La folle et inconvenante histoire des femmes, ...   \n",
       "3    Signatures avec Dominique et Alexandra Duvivier   \n",
       "4  « Le Milieu des choses », une œuvre de Javier ...   \n",
       "\n",
       "                                             chapeau  \\\n",
       "2  Une immersion drôle, détonante et décalée dans...   \n",
       "3  Encore un nouveau spectacle du duo mythique de...   \n",
       "4  En juin 2024, Black Swan Real Estate Capital, ...   \n",
       "\n",
       "                                         description  \\\n",
       "2  <p>Ce spectacle met en scène une jeune femme q...   \n",
       "3  <p>Peut-être tout simplement la magie de vous ...   \n",
       "4  <p><strong>Avec cette réalisation, l’approche ...   \n",
       "\n",
       "               date_de_debut                date_de_fin  \\\n",
       "2  2023-10-24T00:00:00+02:00  2026-08-07T01:15:00+02:00   \n",
       "3  2024-10-12T00:00:00+02:00  2025-07-12T01:15:00+02:00   \n",
       "4  2024-06-01T02:00:00+02:00  2030-06-02T01:59:59+02:00   \n",
       "\n",
       "                                         occurrences  \\\n",
       "2  2026-08-06T22:00:00+02:00_2026-08-06T23:15:00+...   \n",
       "3  2025-06-27T22:00:00+02:00_2025-06-27T23:15:00+...   \n",
       "4                                                NaN   \n",
       "\n",
       "                              description_de_la_date              nom_du_lieu  \\\n",
       "2  Le jeudi 06 août 2026<br />de 21h00 à 22h15<br />  Le funambule montmartre   \n",
       "3  Le vendredi 11 juillet 2025<br />de 21h00 à 22...   Théâtre Le Double Fond   \n",
       "4  Du samedi 01 juin 2024 au samedi 01 juin 2030 ...          Bureaux Panache   \n",
       "\n",
       "   ... date141 date142 date143 date144 date145 date146 date147 date148  \\\n",
       "2  ...    None    None    None    None    None    None    None    None   \n",
       "3  ...    None    None    None    None    None    None    None    None   \n",
       "4  ...     NaN     NaN     NaN     NaN     NaN     NaN     NaN     NaN   \n",
       "\n",
       "   date149 date150  \n",
       "2     None    None  \n",
       "3     None    None  \n",
       "4      NaN     NaN  \n",
       "\n",
       "[3 rows x 174 columns]"
      ]
     },
     "execution_count": 35,
     "metadata": {},
     "output_type": "execute_result"
    }
   ],
   "source": [
    "events.head(3)"
   ]
  },
  {
   "cell_type": "code",
   "execution_count": 36,
   "id": "96cb2633",
   "metadata": {},
   "outputs": [
    {
     "data": {
      "text/plain": [
       "(2592, 174)"
      ]
     },
     "execution_count": 36,
     "metadata": {},
     "output_type": "execute_result"
    }
   ],
   "source": [
    "events.shape"
   ]
  },
  {
   "cell_type": "code",
   "execution_count": null,
   "id": "b48b8957",
   "metadata": {},
   "outputs": [],
   "source": [
    "# events.to_csv('events_in_paris.csv', index=False)"
   ]
  }
 ],
 "metadata": {
  "kernelspec": {
   "display_name": "paris_project",
   "language": "python",
   "name": "python3"
  },
  "language_info": {
   "codemirror_mode": {
    "name": "ipython",
    "version": 3
   },
   "file_extension": ".py",
   "mimetype": "text/x-python",
   "name": "python",
   "nbconvert_exporter": "python",
   "pygments_lexer": "ipython3",
   "version": "3.13.5"
  }
 },
 "nbformat": 4,
 "nbformat_minor": 5
}
